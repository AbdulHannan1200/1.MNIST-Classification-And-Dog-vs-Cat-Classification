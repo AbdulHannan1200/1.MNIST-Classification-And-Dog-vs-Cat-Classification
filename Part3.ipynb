{
 "cells": [
  {
   "cell_type": "code",
   "execution_count": 47,
   "metadata": {},
   "outputs": [],
   "source": [
    "import tensorflow as tf\n",
    "from tensorflow.keras.models import Sequential\n",
    "from tensorflow.keras.layers import Dense,Dropout,Activation,Flatten,Conv2D,MaxPooling2D\n",
    "import pickle"
   ]
  },
  {
   "cell_type": "code",
   "execution_count": 48,
   "metadata": {},
   "outputs": [],
   "source": [
    "X=pickle.load(open('X.pickle','rb'))\n",
    "y=pickle.load(open('y.pickle','rb'))"
   ]
  },
  {
   "cell_type": "code",
   "execution_count": 49,
   "metadata": {},
   "outputs": [],
   "source": [
    "X=X[:5000]\n",
    "y=y[:5000]"
   ]
  },
  {
   "cell_type": "code",
   "execution_count": 50,
   "metadata": {},
   "outputs": [
    {
     "data": {
      "text/plain": [
       "(5000, 180, 180, 1)"
      ]
     },
     "execution_count": 50,
     "metadata": {},
     "output_type": "execute_result"
    }
   ],
   "source": [
    "X.shape"
   ]
  },
  {
   "cell_type": "code",
   "execution_count": 51,
   "metadata": {},
   "outputs": [
    {
     "data": {
      "text/plain": [
       "(180, 180, 1)"
      ]
     },
     "execution_count": 51,
     "metadata": {},
     "output_type": "execute_result"
    }
   ],
   "source": [
    "X.shape[1:]"
   ]
  },
  {
   "cell_type": "code",
   "execution_count": 52,
   "metadata": {},
   "outputs": [],
   "source": [
    "X=X/255.0"
   ]
  },
  {
   "cell_type": "code",
   "execution_count": 53,
   "metadata": {},
   "outputs": [
    {
     "name": "stdout",
     "output_type": "stream",
     "text": [
      "Model: \"sequential_9\"\n",
      "_________________________________________________________________\n",
      "Layer (type)                 Output Shape              Param #   \n",
      "=================================================================\n",
      "conv2d_17 (Conv2D)           (None, 178, 178, 64)      640       \n",
      "_________________________________________________________________\n",
      "activation_24 (Activation)   (None, 178, 178, 64)      0         \n",
      "_________________________________________________________________\n",
      "max_pooling2d_17 (MaxPooling (None, 89, 89, 64)        0         \n",
      "_________________________________________________________________\n",
      "conv2d_18 (Conv2D)           (None, 87, 87, 128)       73856     \n",
      "_________________________________________________________________\n",
      "activation_25 (Activation)   (None, 87, 87, 128)       0         \n",
      "_________________________________________________________________\n",
      "max_pooling2d_18 (MaxPooling (None, 43, 43, 128)       0         \n",
      "_________________________________________________________________\n",
      "conv2d_19 (Conv2D)           (None, 41, 41, 128)       147584    \n",
      "_________________________________________________________________\n",
      "activation_26 (Activation)   (None, 41, 41, 128)       0         \n",
      "_________________________________________________________________\n",
      "max_pooling2d_19 (MaxPooling (None, 20, 20, 128)       0         \n",
      "_________________________________________________________________\n",
      "flatten_7 (Flatten)          (None, 51200)             0         \n",
      "_________________________________________________________________\n",
      "dense_14 (Dense)             (None, 64)                3276864   \n",
      "_________________________________________________________________\n",
      "dense_15 (Dense)             (None, 1)                 65        \n",
      "_________________________________________________________________\n",
      "activation_27 (Activation)   (None, 1)                 0         \n",
      "=================================================================\n",
      "Total params: 3,499,009\n",
      "Trainable params: 3,499,009\n",
      "Non-trainable params: 0\n",
      "_________________________________________________________________\n"
     ]
    }
   ],
   "source": [
    "#X=X/255.0 #normalize\n",
    "\n",
    "model=Sequential()\n",
    "#add first convolutional layer 2d,pass window 3 x 3, don't need -1 \n",
    "#1 x 64 layer convolutional neural network\n",
    "#model.add(Conv2D(64),kern,input_shape=X.shape[1:])\n",
    "model.add(Conv2D(filters=64, kernel_size=3, input_shape=X.shape[1:]))\n",
    "model.add(Activation(\"relu\"))#activation\n",
    "model.add(MaxPooling2D(pool_size=(2,2)))\n",
    "\n",
    "\n",
    "#2 x 64 layer convolutional neural network\n",
    "model.add(Conv2D(filters=128, kernel_size=3))\n",
    "model.add(Activation(\"relu\"))#activation\n",
    "model.add(MaxPooling2D(pool_size=(2,2)))\n",
    "\n",
    "model.add(Conv2D(filters=128, kernel_size=3))\n",
    "model.add(Activation(\"relu\"))#activation\n",
    "model.add(MaxPooling2D(pool_size=(2,2)))\n",
    "\n",
    "#Convolution is 2D, whereas Dense layer is 1D, flattern the data\n",
    "model.add(Flatten())\n",
    "\n",
    "#Final Dense Layer with 64 nodes\n",
    "model.add(Dense(64))\n",
    "\n",
    "# 3 layers above\n",
    "\n",
    "#OUTPUT LAYER\n",
    "model.add(Dense(1))\n",
    "model.add(Activation(\"sigmoid\"))\n",
    "\n",
    "model.compile(loss=\"binary_crossentropy\",optimizer=\"adam\",metrics=['accuracy'])\n",
    "\n",
    "model.summary()\n"
   ]
  },
  {
   "cell_type": "code",
   "execution_count": 54,
   "metadata": {},
   "outputs": [],
   "source": [
    "import numpy as np"
   ]
  },
  {
   "cell_type": "code",
   "execution_count": 55,
   "metadata": {},
   "outputs": [
    {
     "name": "stdout",
     "output_type": "stream",
     "text": [
      "Train on 4000 samples, validate on 1000 samples\n",
      "Epoch 1/10\n",
      "4000/4000 [==============================] - 677s 169ms/sample - loss: 0.7022 - accuracy: 0.5303 - val_loss: 0.6882 - val_accuracy: 0.5460\n",
      "Epoch 2/10\n",
      "4000/4000 [==============================] - 674s 169ms/sample - loss: 0.6871 - accuracy: 0.5670 - val_loss: 0.6851 - val_accuracy: 0.5450\n",
      "Epoch 3/10\n",
      "4000/4000 [==============================] - 688s 172ms/sample - loss: 0.6773 - accuracy: 0.5748 - val_loss: 0.6847 - val_accuracy: 0.5760\n",
      "Epoch 4/10\n",
      "4000/4000 [==============================] - 698s 175ms/sample - loss: 0.6592 - accuracy: 0.6155 - val_loss: 0.6660 - val_accuracy: 0.6220\n",
      "Epoch 5/10\n",
      "4000/4000 [==============================] - 668s 167ms/sample - loss: 0.6415 - accuracy: 0.6535 - val_loss: 0.6633 - val_accuracy: 0.6320\n",
      "Epoch 6/10\n",
      "4000/4000 [==============================] - 667s 167ms/sample - loss: 0.6277 - accuracy: 0.6543 - val_loss: 0.6659 - val_accuracy: 0.6230\n",
      "Epoch 7/10\n",
      "4000/4000 [==============================] - 672s 168ms/sample - loss: 0.5942 - accuracy: 0.6927 - val_loss: 0.6636 - val_accuracy: 0.6400\n",
      "Epoch 8/10\n",
      "4000/4000 [==============================] - 709s 177ms/sample - loss: 0.5414 - accuracy: 0.7255 - val_loss: 0.7176 - val_accuracy: 0.6320\n",
      "Epoch 9/10\n",
      "4000/4000 [==============================] - 701s 175ms/sample - loss: 0.4900 - accuracy: 0.7573 - val_loss: 0.8189 - val_accuracy: 0.6320\n",
      "Epoch 10/10\n",
      "4000/4000 [==============================] - 678s 170ms/sample - loss: 0.4246 - accuracy: 0.7987 - val_loss: 0.9079 - val_accuracy: 0.6290\n"
     ]
    },
    {
     "data": {
      "text/plain": [
       "<tensorflow.python.keras.callbacks.History at 0x16f1c606e48>"
      ]
     },
     "execution_count": 55,
     "metadata": {},
     "output_type": "execute_result"
    }
   ],
   "source": [
    "\n",
    "model.fit(X,np.array(y),batch_size=5,epochs=10,validation_split=0.2)"
   ]
  },
  {
   "cell_type": "code",
   "execution_count": 43,
   "metadata": {},
   "outputs": [
    {
     "data": {
      "text/plain": [
       "7143"
      ]
     },
     "execution_count": 43,
     "metadata": {},
     "output_type": "execute_result"
    }
   ],
   "source": [
    "pred=np.random.randint(5000,10000)\n",
    "pred"
   ]
  },
  {
   "cell_type": "code",
   "execution_count": 45,
   "metadata": {},
   "outputs": [
    {
     "data": {
      "text/plain": [
       "(50, 180, 180, 1)"
      ]
     },
     "execution_count": 45,
     "metadata": {},
     "output_type": "execute_result"
    }
   ],
   "source": [
    "X.shape"
   ]
  },
  {
   "cell_type": "code",
   "execution_count": null,
   "metadata": {},
   "outputs": [],
   "source": []
  }
 ],
 "metadata": {
  "kernelspec": {
   "display_name": "Python 3",
   "language": "python",
   "name": "python3"
  },
  "language_info": {
   "codemirror_mode": {
    "name": "ipython",
    "version": 3
   },
   "file_extension": ".py",
   "mimetype": "text/x-python",
   "name": "python",
   "nbconvert_exporter": "python",
   "pygments_lexer": "ipython3",
   "version": "3.7.3"
  }
 },
 "nbformat": 4,
 "nbformat_minor": 2
}
